{
 "cells": [
  {
   "cell_type": "markdown",
   "metadata": {},
   "source": [
    "## Análise\n",
    "- Verificar se o sistema atende aos requisitos\n",
    "\n",
    "## Projeto\n",
    "- Ajustar o desempenho para atender aos requisitos\n",
    "\n",
    "\n",
    "## Controle em Malha Aberta\n",
    "\n",
    "- Não contém realimentação\n",
    "- O sistema tem como parâmetro apenas um valor de referência para tentar atingir\n",
    "\n",
    "## Controle em Malha Fechada\n",
    "\n",
    "- O sistema usa a realimentação da saída para gerar um sinal de erro utilizado no ajuste\n",
    "\n",
    "<img src=\"https://cdn.jsdelivr.net/gh/rogergranada/MOOCs@104aad00/Coursera/ITA/Controle/Week%201/images/tipos_controle.svg\" />"
   ]
  },
  {
   "cell_type": "markdown",
   "metadata": {},
   "source": [
    "## Nomeclatura\n",
    "\n",
    "A nomeclatura é definida como:\n",
    "\n",
    "Referência: $r$($t$) <br/>\n",
    "Erro: $e$($t$) <br/>\n",
    "Entrada: $u$($t$) <br/>\n",
    "Saída: $y$($t$) <br/>\n",
    "Sinal de ganho do sistema: $k$ <br/>\n",
    "\n",
    "<img src=\"https://cdn.jsdelivr.net/gh/rogergranada/MOOCs@104aad00/Coursera/ITA/Controle/Week%201/images/nomeclatura.svg\" />"
   ]
  },
  {
   "cell_type": "markdown",
   "metadata": {},
   "source": [
    "# Modelagem Massa-Mola-Amortecedor\n",
    "\n",
    "A modelagem consiste em criar um modelo matemático para o problema de massa-mola-amortecedor conforme o desenho abaixo:\n",
    "\n",
    "<img src=\"https://cdn.jsdelivr.net/gh/rogergranada/MOOCs@104aad00/Coursera/ITA/Controle/Week%201/images/massa_mola_amortecedor.svg\" />\n",
    "\n",
    "Para tanto, parte-se do princípio da lei de Newton em que a soma de todas as forças é igual a massa vezes a aceleração.\n",
    "\n",
    "$$ \\sum \\text{forças} = m.a $$\n",
    "\n",
    "Assim, a soma da força externa aplicada, com a forças da mola e a força do amortecedor resultam na multiplicação entre a massa e a aceleração.  \n",
    "\n",
    "$$ u + f_{\\text{mola}} + f_{\\text{amortecedor}} = ma $$\n",
    "\n",
    "Sabemos que a força de uma mola é proporcional ao seu deslocamento, mas no sentido oposto a esse deslocamento, bem como a força de amortecedor é proporcional a sua velocidade, mas também no sentido oposto à velocidade. \n",
    "\n",
    "<img src=\"https://github.com/rogergranada/MOOCs/blob/master/Coursera/ITA/Controle/Week%201/images/mola_amortecedor.svg\" />\n",
    "\n",
    "Substituindo as forças na equação anterior, obtemos:\n",
    "\n",
    "$$\n",
    "u + f_{\\text{mola}} + f_{\\text{amortecedor}} = ma \\\\\n",
    "u - k_mx_m - b_av_a = ma \n",
    "$$\n",
    "\n",
    "Observe que o sinal negativo corresponde ao sentido oposto da força na mola e no amortecedor em relação à força externa. Assim, a força externa $u$ menos a constante de mola $k_m$ vezes o deslocamento da mola $x_m$ menos a constante do amortecedor $b_a$ vezes a velocidade $v_a$ é igual a massa $m$ vezes a aceleração $a$. Como uma das extremidades da mola e do amortecedor está presa a parede e a outra extremidade está presa a massa, o deslocamento da massa é igual ao deslocamento da mola e a velocidade da massa é igual a velocidade do amortecedor. A aceleração da massa é a derivada de sua velocidade, que por sua vez é a derivada de sua posição, então a aceleração é a derivada segunda da posição. \n",
    "\n",
    "$$\n",
    "x_m = y \\\\\n",
    "v_a = v_m = \\frac{dy}{dt} \\\\\n",
    "a = \\frac{dv_m}{dt} = \\frac{d^2y}{dt^2}\n",
    "$$\n",
    "\n",
    "Substituindo na equação proveniente da segunda lei de Newton, temos:\n",
    "\n",
    "$$ u - k_my - b_a\\frac{dy}{dt} = m\\frac{d^2y}{dt^2} $$\n",
    "\n",
    "onde $u$ é a força aplicada, $k_m$ é a constante de mola, $b_a$ é a constante do amortecedor e $m$ a massa. Temos uma equação diferencial relacionando a entrada $u(t)$, que é a força aplicada, e a saída $y(t)$ que é a posição ou o deslocamento da massa. Por questões de simplificação, a primeira derivada é denotada por um ponto $\\dot y$, a segunda derivada por dois pontos $\\ddot y$ e assim por diante, resultando:\n",
    "\n",
    "$$ u - k_my - b_a\\dot y = m\\ddot y $$\n",
    "\n",
    "Ordenando a equação, mantendo a equação diferencial com todos os termos referentes a saída do lado esquerdo e todos os termos referentes a entrada do lado direito e ordenando da maior derivada para a menor, temos:\n",
    "\n",
    "$$ m\\ddot y + b_a\\dot y + k_my = u $$\n",
    "\n",
    "Ainda, podemos dividir a equação diferencial pelo coeficiente da maior derivada, nesse caso $m$, então nossa equação diferencial fica:\n",
    "\n",
    "$$ \\ddot y + \\frac{b_a}{m}\\dot y + \\frac{k_m}{m}y = \\frac{u}{m} $$"
   ]
  },
  {
   "cell_type": "code",
   "execution_count": null,
   "metadata": {
    "collapsed": true
   },
   "outputs": [],
   "source": []
  }
 ],
 "metadata": {
  "kernelspec": {
   "display_name": "Python 2",
   "language": "python",
   "name": "python2"
  },
  "language_info": {
   "codemirror_mode": {
    "name": "ipython",
    "version": 2
   },
   "file_extension": ".py",
   "mimetype": "text/x-python",
   "name": "python",
   "nbconvert_exporter": "python",
   "pygments_lexer": "ipython2",
   "version": "2.7.13"
  }
 },
 "nbformat": 4,
 "nbformat_minor": 2
}
