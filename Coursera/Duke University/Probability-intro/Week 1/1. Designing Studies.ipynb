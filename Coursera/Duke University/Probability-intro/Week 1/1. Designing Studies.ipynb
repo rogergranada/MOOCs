{
 "cells": [
  {
   "cell_type": "markdown",
   "metadata": {},
   "source": [
    "# Designing Studies"
   ]
  },
  {
   "cell_type": "markdown",
   "metadata": {},
   "source": [
    "## Data Basics\n",
    "\n",
    "**Types of variables**\n",
    "- Numerical: (quantitative) take on numerical values sensible to add, subtract, take averages, etc. with these values\n",
    "- Categorical: (qualitative) take on a limited number of distinct categories. Categories can be identified with numbers, but not sensible to do arithmetic operations\n",
    "\n",
    "**Numerical variables**\n",
    "- Continuous: Take on any of an infinite number of values within a given range\n",
    "- Discrete: Take on one of a specific set of numeric values\n",
    "\n",
    "**Categorical variables**\n",
    "- Regular categorical:\n",
    "- Ordinal: Levels have an inherent ordering\n",
    "\n",
    "Two variables that show some connection with one another are called *associated* (*dependent*). Association can be further described as *positive* or *negative*. If two variables are not associated, they are said to be *independent*."
   ]
  },
  {
   "cell_type": "markdown",
   "metadata": {},
   "source": [
    "### Questions:\n",
    "\n",
    "Which type of variable is ud_req (number of user data requests as part of a criminal investigation)?  \n",
    "&#9744; numerical, continuous  \n",
    "&#9745; numerical, discrete  \n",
    "&#9744; categorical  \n",
    "&#9744; categorical, ordinal  \n",
    "\n",
    "Which type of variable is hdi (Human Development Index, combining factors of life expectancy, educational attainment, and income) with levels very high, high, medium, and low human development)?  \n",
    "&#9744; numerical, continuous  \n",
    "&#9744; numerical, discrete  \n",
    "&#9744; categorical  \n",
    "&#9745; categorical, ordinal  "
   ]
  },
  {
   "cell_type": "markdown",
   "metadata": {},
   "source": [
    "---\n",
    "## Observational Studies & Experiments\n",
    "\n",
    "**Types of Studies**\n",
    "- Observational: Collect data in a way that does not directly interfere with how the data arise (\"observe\"). It only stablishes an association. In other words, correlation between the explanatory and the response variables. If an observational study uses data from the past, it's called a *retrospective* study. Whereas if data are collected throughout the study, it's called *prospective*.\n",
    "- Experiment: Randomly assign subjects to treatments. It establishes causal connections.\n",
    "\n",
    "In an observational study, we sampled two types of people from the population. Those who choose to work out and those who don't, then find the average energy level for the two groups of people and compare. \n",
    "\n",
    "<img align=\"center\" width=\"600\" src=\"https://cdn.jsdelivr.net/gh/rogergranada/MOOCs@cfebfa85/Coursera/Duke%20University/Probability-intro/Week%201/images/observational_study.svg\"/>\n",
    "\n",
    "On the other hand, in an experiment, we sample a group of people from the population, then we randomly assign these people into two groups. Those who will regularly work out through the course of the study and those who will not. The difference is that the decision of whether to work out or not is not left up to the subjects as in the observational study, but is instead imposed by the researcher. At the end, we compare the average energy levels of the two groups based on the observational study even if we find the difference between the average energy levels of these two groups of people, we can't attribute this difference solely to working out. Because there may be other variables that we didn't control for in this study, that contribute to the observed difference. For example, people who are in better shape might be more likely to regularly work out and also have higher energy levels. However, in the experiment, such variables that might also contribute to the outcome are likely equally represented in the two groups due to the random assignment. Therefore, if we find a difference between the two averages, we can indeed make a colossal statement attributing this difference to working out.\n",
    "\n",
    "<img align=\"center\" width=\"500\" src=\"https://cdn.jsdelivr.net/gh/rogergranada/MOOCs@1b8765e4/Coursera/Duke%20University/Probability-intro/Week%201/images/experiment.svg\"/>"
   ]
  },
  {
   "cell_type": "markdown",
   "metadata": {},
   "source": [
    "### Questions:\n",
    "\n",
    "What type of a study is this?  \n",
    "&#9744; experiment  \n",
    "&#9745; observational study  \n",
    "\n",
    "What is the main difference between observational studies and experiments?  \n",
    "&#9744; Experiments take place in a lab while observational studies do not need to.  \n",
    "&#9744; In an observational study we only look at what happened in the past.  \n",
    "&#9745; Most experiments use random assignment while observational studies do not.  \n",
    "&#9744; Observational studies are completely useless since no causal inference can be made based on their findings.  \n"
   ]
  },
  {
   "cell_type": "markdown",
   "metadata": {},
   "source": [
    "---\n",
    "## Sampling and Source of Bias\n",
    "\n",
    "**Sources of sampling bias**\n",
    "- Convenience sample bias: It occurs when individuals who are easily accessible, are more likely to be included in the sample. For example, say you want to find out how people in your city feel about a recent increase in public transportation costs. If you only poll people in your neighborhood, as opposed to a representative sample from the whole city, tour study would suffer from convenience bias.\n",
    "- Non-response: It happens if only a non-random fraction of the randomly sampled people respond to a survey, such that the sample is no longer representative of the population. For example, say you take a random sample of individuals from your city, and attempt to survey them, but certain segments of the population, say those from a lower socioeconomic status, are less likely to respond to the survey. \n",
    "- Voluntary response bias: It occurs when the sample consists of only people who volunteer to respond because they have strong opinions on the issue. For example, say you place polling machines at all bus stops and metro stations in your city, but only those who choose to do so actually take the time to vote and express their opinion on the recent increase on public transportation costs. \n",
    "\n",
    "**Sampling Methods**\n",
    "- Simple random sampling: we randomly select cases from the population, such that each case is equally likely to be selected. This is similar to randomly drawing names from a hat. \n",
    "\n",
    "<img align=\"center\" width=\"500\" src=\"https://cdn.jsdelivr.net/gh/rogergranada/MOOCs@1b8b7bf5/Coursera/Duke%20University/Probability-intro/Week%201/images/srs.svg\"/>\n",
    "\n",
    "- Stratified sampling: we first divide the population into homogenous groups called strata, and then randomly sample from within each stratum. For example, if we wanted to make sure both genders are equally represented in a study, we might divide the population first into males and females, and then randomly sample from within each group.\n",
    "\n",
    "<img align=\"center\" width=\"500\" src=\"https://cdn.jsdelivr.net/gh/rogergranada/MOOCs@e41c7a94/Coursera/Duke%20University/Probability-intro/Week%201/images/stratified_sample.svg\"/>\n",
    "\n",
    "- Cluster sampling: we divide the population into clusters, randomly sample a few clusters, and then sample all observation within these clusters. The clusters, unlike strata and stratified sampling, are heterogeneous within themselves, and each cluster is similar to another, such that we can get away with just sampling from a few of the clusters. \n",
    "\n",
    "<img align=\"center\" width=\"500\" src=\"https://cdn.jsdelivr.net/gh/rogergranada/MOOCs@ce1513c9/Coursera/Duke%20University/Probability-intro/Week%201/images/cluster_sample.svg\"/>\n",
    "\n",
    "- Multistage sampling: we divide the population into clusters, randomly sample a few clusters, and then we randomly sample observations from within these clusters. Usually, we use cluster sampling and multistage sampling for economical reasons. For example, one might divide a city into geographic regions that are on average similar to each other, and then sample randomly a few of these regions, go to these randomly picked regions, and then, sample a few people from within these regions. This avoids the need to travel to all of the regions in the city. \n",
    "\n",
    "<img align=\"center\" width=\"500\" src=\"https://cdn.jsdelivr.net/gh/rogergranada/MOOCs@2440835c/Coursera/Duke%20University/Probability-intro/Week%201/images/multistage_sample.svg\"/>"
   ]
  },
  {
   "cell_type": "markdown",
   "metadata": {},
   "source": [
    "### Questions:\n",
    "\n",
    "A retail store considering updates to their credit card policies randomly samples 1000 of their credit card holders to survey on the phone. The phone calls are made during business hours, therefore there is a lower rate of responses from members who work during these hours. What type of bias is this indicative of?  \n",
    "&#9744; Convenience sample  \n",
    "&#9744; Voluntary response  \n",
    "&#9745; Non-response  \n",
    "&#9744; None of the above  \n",
    "\n",
    "A city council has requested a household survey be conducted in a suburban area of their city. The area is broken into many distinct and unique neighborhoods, some including large homes, some with only apartments. Which approach would likely be the least effective?  \n",
    "&#9744; Stratified sampling, where each stratum is a neighborhood  \n",
    "&#9745; Cluster sampling, where each cluster is a neighborhood  \n",
    "&#9744; Simple random sampling  \n"
   ]
  },
  {
   "cell_type": "markdown",
   "metadata": {},
   "source": [
    "---\n",
    "## Experimental Design\n",
    "\n",
    "**Principles of experimental design**\n",
    "- Control: It means to compare treatment of interest to a control group\n",
    "- Randomize: It means randomly assigning subjects to treatments\n",
    "- Replicate: It means collecting a sufficiently large sample within the study or to replicate the entire study\n",
    "- Block: If there are variables that are know or suspected to effect the response variable, first group the subjects into blocks based on these variables. And then randomized cases with in each block to treatment groups. \n",
    "\n",
    "For example, we would like to design and experiment to investigate if energy gels make you run faster. The treatment group gets the energy gel, the control group does not get any energy gel. It is suspected that energy gels might effect pro and amateur athletes differently therefore we block for pro status. To do so, we divide our sample into pro and amateur athletes, and then, we randomly assign pro and amateur athletes to treatment and control groups, therefore, pro and amateur athletes are equally represented in the resulting treatment and control groups. This way, if we do find a difference in running speed between the treatment and control groups we will be able to attribute it to the treatment, the energy gel, and can be assured that the difference isn't due to pro status since both pro and amateur athletes were equally represented in the treatment and control groups.\n",
    "\n",
    "**Blocking vs. Explanatory variables**\n",
    "- Explanatory variables (factors) - conditions we can impose on experimental units\n",
    "- Blocking variables - characteristics that the experimental units come with, that we would like to control for\n",
    "\n",
    "**Experimental Terminology**\n",
    "- *Placebo* is fake treatment, often used as the control group for medical studies \n",
    "- *Placebo effect* is when experimental unit show improvement simply because they believe they're receiving a special treatment\n",
    "- *Blinding* is when experimental units do not know whether they are in the control or the treatment groups\n",
    "- *Double-blind study* is one where both the experimental units and the researchers do not know who is in the control and who is in the treatment group "
   ]
  },
  {
   "cell_type": "markdown",
   "metadata": {},
   "source": [
    "### Questions:\n",
    "\n",
    "A study is designed to test the effect of light level and noise level on exam performance of students. The researcher also believes that light and noise levels might have different effects on males and females, so wants to make sure both genders are represented equally under different conditions. Which of the below is correct?  \n",
    "&#9744; There are 3 explanatory variables (light, noise, gender) and 1 response variable (exam performance)  \n",
    "&#9744; There is 1 explanatory variable (gender) and 3 response variables (light, noise, exam performance)  \n",
    "&#9744; There are 2 blocking variables (light and noise), 1 explanatory variable (gender), and 1 response variable (exam performance)  \n",
    "&#9745; There are 2 explanatory variables (light and noise), 1 blocking variable (gender), and 1 response variable (exam performance)  \n",
    "\n",
    "*The researchers are interested in the effect of light and noise on exam performance. Since they believe these two variables might be affecting the outcome, these are the explanatory variables and exam performance is the response variable. Gender of the student is a nuisance variable they want to control for, hence they block for it. Unlike light and noise, gender is not a treatment that is being imposed on the subjects.*"
   ]
  },
  {
   "cell_type": "markdown",
   "metadata": {},
   "source": [
    "---\n",
    "## Random Sample Assignment\n",
    "\n",
    "*Random sampling* occurs when subjects are being selected for a study. If subjects are selected randomly from the population, then each subject in the population is equally likely to be selected, and the resulting sample is likely representative of the population. Therefore the study's results are generalizable to the population at large. \n",
    "\n",
    "<img align=\"center\" width=\"400\" src=\"https://cdn.jsdelivr.net/gh/rogergranada/MOOCs@7aed44e7/Coursera/Duke%20University/Probability-intro/Week%201/images/random_sampling.svg\"/>\n",
    "\n",
    "*Random assignment* occurs only in experimental settings, where subjects are being assigned to various treatments. Taking a close look at our sample, we usually see that the subjects exhibit slightly different characteristics from one another. Through a random assignment, we ensure that these different characteristics are represented equally in the treatment and control groups. This allows us to attribute any observed difference between the treatment and control groups, to the treatment being observed on the subjects, since otherwise these groups are essentially the same. In other words, random assignment allows us to make causal conclusions based on the study. \n",
    "\n",
    "<img align=\"center\" width=\"500\" src=\"https://cdn.jsdelivr.net/gh/rogergranada/MOOCs@c1d66769/Coursera/Duke%20University/Probability-intro/Week%201/images/random_assignment.svg\"/>\n",
    "\n",
    "**Summarizing**:\n",
    "\n",
    "A study that employs random sampling and random assignment, can be used to make causal conclusions, and these conclusions can be generalized to the whole population. This would be an ideal experiment, but site studies are usually difficult to carry out, especially if the experimental units are humans, since it may be difficult to randomly sample people from the population, and then impose treatments on them. This is why most experiments recruit volunteer subjects. You may have seen ads for these on a university campus, or in a newspaper.  \n",
    "\n",
    "Such human experiments that rely on volunteers employ random assignment, but not random sampling. These studies can be used to make causal conclusions, but the conclusions only apply to the sample, and the results cannot be generalized. A study that uses no random assignment, but does use random sampling, is your typical observational study. Results can only be used to make correlation statements, but they can be generalized to the population at large. A final type of study, one that doesn't use random assignment or random sampling, can only be used to make correlational statements, and these conclusions are not generalizable. This is an un ideal observational study. \n",
    "\n",
    "<img align=\"center\" width=\"700\" src=\"https://cdn.jsdelivr.net/gh/rogergranada/MOOCs@cdd21b51/Coursera/Duke%20University/Probability-intro/Week%201/images/types_experiments.svg\"/>\n"
   ]
  },
  {
   "cell_type": "code",
   "execution_count": null,
   "metadata": {
    "collapsed": true
   },
   "outputs": [],
   "source": []
  }
 ],
 "metadata": {
  "kernelspec": {
   "display_name": "R",
   "language": "R",
   "name": "ir"
  },
  "language_info": {
   "codemirror_mode": "r",
   "file_extension": ".r",
   "mimetype": "text/x-r-source",
   "name": "R",
   "pygments_lexer": "r",
   "version": "3.2.3"
  }
 },
 "nbformat": 4,
 "nbformat_minor": 2
}
