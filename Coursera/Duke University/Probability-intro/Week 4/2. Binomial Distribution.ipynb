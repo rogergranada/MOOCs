{
 "cells": [
  {
   "cell_type": "markdown",
   "metadata": {},
   "source": [
    "# Binomial Distribution"
   ]
  },
  {
   "cell_type": "markdown",
   "metadata": {
    "collapsed": true
   },
   "source": [
    "### Milgram's Experiment \n",
    "\n",
    "Conducted by Stanley Milgram, a Yale University psychologist, starting in the 1960s. These experiments measured willingness of participants to obey an authority figure who instructed them to perform acts that conflicted with their personal conscience. The experimenter orders the teacher to give severe electric shocks to a learner each time the learner answers a question incorrectly. The teacher is the subject of the study and the learner is actually just an actor and the electric shocks are not real but pre-recorded sound is played each time the teacher administers an electric shock. So they actually think that they're really shocking these people. Milgram found that about 65% of people would obey authority and give such shocks. Over the years, additional research suggested this number is approximately consistent across communities and time. \n",
    "\n",
    "- Each person in Milgram's experiment can be thought of as a trial. \n",
    "- A person is labeled a **success** if she refuses to administer a severe shock, and **failure** if she administers such a shock. \n",
    "- Since only 35% of people refused to administer such a shock the probability of success is `p = 0.35`. \n",
    "- When an individual trial has only two possible outcomes like the one here, it is called a **Bernouilli random variable**.\n",
    "\n",
    "*Suppose we randomly select four individuals to participate in this experiment. What is the probability that exactly one of them will refuse to administer the shock?*\n",
    "\n",
    "Lets name our four individuals as:\n",
    "- (A) Anthony\n",
    "- (B) Brittany\n",
    "- (C) Clara\n",
    "- (D) Dorian\n",
    "\n",
    "We're interested in one out of four people refusing to administer the shock and there are multiple scenarios where this can happen.  \n",
    "\n",
    "**Scenario 1**: we have 4 people in our experiment, and let's say that the first person refuses to administer the shock, and the remainder of them all do not refuse to administer the shock. The probability associated with refusing is 0.35, and the probability associated with all the rest is 0.65. Since we're saying that the first person will refuse, and the second person will shock, and the third person will shock, and the fourth person will shock, when we'd say and, and these are remember independent trials because since these are a random sample of people, we multiply these probabilities. So the probability associated with this first scenario, first person refuses and everybody else shocks, is 0.0961.\n",
    "\n",
    "$$\n",
    "\\text{SCENARIO 1:} \\ \\ \\  \\frac{0.35}{\\text{(A) refused}} \\times \\frac{0.65}{\\text{(B) shock}} \\times \\frac{0.65}{\\text{(C) shock}} \\times \\frac{0.65}{\\text{(D) shock}} = 0.0961\n",
    "$$\n",
    "\n",
    "**Scenario 2**: only the second person refuses and the remainder of them shock. The probability of shocking for the first person is 0.65, the probability of refusing is 0.35, and the remainder is 0.65 as well. Once again, we want to multiply these probabilities and we yet arrive at the same probability for the overall scenario. So even though the order has changed, the overall probability has not changed because the order in which you multiply numbers does not change the product. \n",
    "\n",
    "$$\n",
    "\\text{SCENARIO 2:} \\ \\ \\  \\frac{0.65}{\\text{(A) shock}} \\times \\frac{0.35}{\\text{(B) refused}} \\times \\frac{0.65}{\\text{(C) shock}} \\times \\frac{0.65}{\\text{(D) shock}} = 0.0961\n",
    "$$\n",
    "\n",
    "**Scenario 3**: the first two people shock, the third person refuses, and the last one shocks. So the probabilities are 0.65 for the first two, 0.35 for the third and 0.65 for the last one. Multiplying these probabilities once again gets us to the same answer. \n",
    "\n",
    "$$\n",
    "\\text{SCENARIO 3:} \\ \\ \\  \\frac{0.65}{\\text{(A) shock}} \\times \\frac{0.65}{\\text{(B) shock}} \\times \\frac{0.35}{\\text{(C) refused}} \\times \\frac{0.65}{\\text{(D) shock}} = 0.0961\n",
    "$$\n",
    "\n",
    "**Scenario 4**: we're going to have the first three people shocking A B and C and D not, refusing to shock. The probability associated with shocking is 0.65 for the first three. And 0.35 for the last person. Once again we multiply the probabilities since these are independent outcomes, and we're looking for the joint probability, and the answer once again is 0.0961.\n",
    "\n",
    "$$\n",
    "\\text{SCENARIO 4:} \\ \\ \\  \\frac{0.65}{\\text{(A) shock}} \\times \\frac{0.65}{\\text{(B) shock}} \\times \\frac{0.65}{\\text{(C) shock}} \\times \\frac{0.35}{\\text{(D) refused}} = 0.0961\n",
    "$$\n",
    "\n",
    "What we're saying is that, the possible scenarios could be Scenario 1 **OR** Scenario 2 **OR** Scenario 3 **OR** Scenario 4. These are **disjoint scenarios**, disjoint outcomes. They can't all happen at the same time. Therefore when we say **OR**, we **ADD** the probabilities, and therefore we find that the overall probability that exactly one person out of four refuses to administer the shock is 0.3844.\n",
    "\n",
    "$P(1\\text{ out of }4) = P(\\text{SCENARIO 1}) + P(\\text{SCENARIO 2}) + P(\\text{SCENARIO 3}) + P(\\text{SCENARIO 4})$<br>\n",
    "$P(1\\text{ out of }4) = 0.0961 + 0.0961 + 0.0961 + 0.0961 = 0.3844$<br>\n",
    "\n",
    "We could have actually arrived at this answer as the probability of the first scenario or any scenario times the number of scenarios. So if we didn't have to go through the scenarios one by one for illustrative purposes, after we were done with the first calculation we could quickly try to figure out how many scenarios there are and simply multiply the probability of one scenario with the number of scenarios to arrive at the same answer. \n",
    "\n",
    "$P(1\\text{ out of }4) = 4 \\times 0.0961  = 0.3844$<br>\n",
    "\n",
    "### Binomial Distribution\n",
    "\n",
    "The binomial distribution describes the probability of having exactly $k$ successes in $n$ independent Bernouilli trials with probability of success, $p$. We show that this probability can be calculated as the product of the number of scenarios times the probability of a single scenario. The probability of a single scenario is simply:\n",
    "\n",
    "$$P(\\text{single scenario}) = p^k(1-p)^{(n-k)}$$\n",
    "\n",
    "where $p^k$ is the probability of success to the $k$ number of successes, and $(1-p)^{(n-k)}$ is the probability of failure, to the power of number of failures. To find the number of scenarios we actually enumerated each possible scenario, but this was only feasible since there were only four of them. If there were many more, say we were looking for how many scenarios for four success in 100 trials, this method would be very tedious, and also very error prone. \n",
    "\n",
    "Therefore we usually use an alternative approach, namely the choose function which is useful for calculating the number of ways to choose $k$ successes in $n$ trials ($n$ choose $k$). To evaluate this function, we perform:\n",
    "\n",
    "$$\\binom{n}{k} = \\frac{n!}{k!(n-k)!}$$\n",
    "\n",
    "**Examples**:\n",
    "\n",
    "1) How many scenarios yield one success in four trials?\n",
    "\n",
    "So, we know that our $n=4$ and $k=1$. Applying in the equation:\n",
    "\n",
    "$\\binom{n}{k} = \\frac{n!}{k!(n-k)!}$<br>\n",
    "$\\binom{4}{1} = \\frac{4!}{1!(4-1)!}$<br>\n",
    "$\\binom{4}{1} = \\frac{4\\times3\\times2\\times1}{1\\times(3\\times2\\times1)}$<br>\n",
    "$\\binom{4}{1} = \\frac{4}{1} = 4$<br>\n",
    "\n",
    "2) How many scenarios yield two successes and nine trials?\n",
    "\n",
    "We could try to make it manually, as we did with the earlier example. Thus, the first two might be successes and the reminder failures. The first one might be a success. The second one a failure. The third one a success and the remainder failures. We could also have the first and the fourth one successes and the remainder are failures and this could go on and on.\n",
    "\n",
    "$$SSFFFFFFF$$\n",
    "$$SFSFFFFFF$$\n",
    "$$SFFSFFFFF$$\n",
    "$$SFFFSFFFF$$\n",
    "$$...$$\n",
    "\n",
    "Obviously this is not the way to go, so we'll use the choose function. So, we know that our $n=9$ and $k=2$. Applying in the equation:\n",
    "\n",
    "$\\binom{n}{k} = \\frac{n!}{k!(n-k)!}$<br>\n",
    "$\\binom{9}{2} = \\frac{9!}{2!(9-2)!}$<br>\n",
    "$\\binom{4}{1} = \\frac{9\\times8\\times7\\times6\\times5\\times4\\times3\\times2\\times1}{2\\times1\\times(7\\times6\\times5\\times4\\times3\\times2\\times1)}$<br>\n",
    "$\\binom{4}{1} = \\frac{9\\times8}{2\\times1} = 36$<br>\n",
    "\n",
    "These hand calculations are nice, but to speed things up we can also use computation. In R the associated function is also called `choose` and it takes two arguments $n$ and $k$."
   ]
  },
  {
   "cell_type": "code",
   "execution_count": 1,
   "metadata": {},
   "outputs": [
    {
     "data": {
      "text/html": [
       "36"
      ],
      "text/latex": [
       "36"
      ],
      "text/markdown": [
       "36"
      ],
      "text/plain": [
       "[1] 36"
      ]
     },
     "metadata": {},
     "output_type": "display_data"
    }
   ],
   "source": [
    "choose(9,2)"
   ]
  },
  {
   "cell_type": "markdown",
   "metadata": {},
   "source": [
    "### Binomial Distribution\n",
    "\n",
    "If $p$ represents probability of success, $(1-p)$ represents probability of failure, $n$ represents number of independent trials, and $k$ represents the number of successes, the probability of $k$ successes in $n$ trials can be thought as\n",
    "\n",
    "$$P(k\\text{ successes in }n\\text{ trials}) = \\binom{n}{k} p^k (1 - p)^{(n - k)}$$\n",
    "\n",
    "where\n",
    "\n",
    "$$\\binom{n}{k} = \\frac{n!}{k!(n-k)!}$$\n",
    "\n",
    "\n",
    "### Binomial Conditions\n",
    "\n",
    "What does it take for a random variable to follow a binomial distribution?  \n",
    "1) The trials must be independent  \n",
    "2) The number of trials ($n$) must be fixed  \n",
    "3) Each trial outcome must be classified as either a success or a failure  \n",
    "4) The probability of success ($p$) must be same for each trial  \n",
    "\n",
    "**Practice**:\n",
    "\n",
    "1) According to a 2013 Gallup pool, worldwide only 13% of employees are engaged at work. Engaged meaning psychologically committed to their jobs and likely to be making positive contributions to their organizations. Among a random sample of ten employees, what is the probability that eight of them are engaged at work? \n",
    "\n",
    "We're told that we have 10 employees ($n$=10), we're also told that 13% of them are engaged $P$(success)=0.13, then the probability of failure will be the complement of this $(1-P)$=0.87. Lastly we're looking for 8 successes - the probability that 8 of them are engaged ($k$=8). \n",
    "\n",
    "We can find this probability using the binomial distribution, because we actually meet the conditions required for the binomial distribution. We have a random sample of employees, therefore the independence condition for, or the independent trials condition is met. And since we have independent trials, the probability of success is going to be 0.13 for each employee. For each employee there are only two possible outcomes, either they're engaged or they're not engaged. And lastly, we have a fixed number of trials, $n$ is equal to 10.\n",
    "\n",
    "$P(k=8) = \\binom{n}{k} p^k (1 - p)^{(n - k)}$<br>\n",
    "$P(k=8) = \\binom{10}{8} 0.13^8 \\times (0.87)^{(10 - 8)}$<br>\n",
    "$P(k=8) = \\frac{10!}{8!\\times(10-8)!}\\times 0.13^8\\times 0.87^2$<br>\n",
    "$P(k=8) = \\frac{10\\times9\\times8!}{8!\\times(2\\times1)}\\times 0.13^8\\times 0.87^2$<br>\n",
    "$P(k=8) = \\frac{10\\times9}{2}\\times 0.13^8\\times 0.87^2$<br>\n",
    "$P(k=8) = 45\\times 0.13^8\\times 0.87^2 = 0.00000278$<br>\n",
    "\n",
    "We can also calculate the same probability using R, where we would use the `dbinom` function, where the first argument is the number of successes. The second argument is our sample size or our number of trials, 10. And the third argument is the probability of success, 0.13."
   ]
  },
  {
   "cell_type": "code",
   "execution_count": 11,
   "metadata": {},
   "outputs": [
    {
     "data": {
      "text/html": [
       "2.77841962226205e-06"
      ],
      "text/latex": [
       "2.77841962226205e-06"
      ],
      "text/markdown": [
       "2.77841962226205e-06"
      ],
      "text/plain": [
       "[1] 2.77842e-06"
      ]
     },
     "metadata": {},
     "output_type": "display_data"
    }
   ],
   "source": [
    "dbinom(8, size=10, p=0.13)"
   ]
  },
  {
   "cell_type": "markdown",
   "metadata": {},
   "source": [
    "Among a random sample of 100 employees, how many would you expect to be engaged at work?  Remember, $p$ is equal to 0.13. \n",
    "\n",
    "The expected number of engaged employees is going to be 100 times 0.13. So $n\\times p=13$, or more formally, the expected value, or the mean of the binomial distribution, is simply equal to $n$ times $p$. Thus, expected value (mean) of binomial distribution is:\n",
    "\n",
    "$$\\mu = n\\times p$$\n",
    "\n",
    "This doesn't mean that in every random sample of 100 employees exactly 13 will be engaged at work. In some samples the number of engaged employees will be fewer, and in others, more. So how much would we expect this value to vary? We can quantify the variability around the mean using the standard deviation. For a binomial distribution, the standard deviation is defined as: \n",
    "\n",
    "$$\\sigma = \\sqrt{np(1-p)}$$\n",
    "\n",
    "Plug in the values from the original survey, we would expect:\n",
    "\n",
    "$\\sigma = \\sqrt{np(1-p)}$<br>\n",
    "$\\sigma = \\sqrt{100\\times0.13\\times0.87}$<br>\n",
    "$\\sigma = 3.36$<br>\n",
    "\n",
    "This means that 13 out of 100 employees are expected to be at engaged at work, give or take approximately 3.36. Note that the mean on the standard deviation of a binomial, might not always be whole numbers, and that's alright. These values represent what we would expect to see on average. "
   ]
  },
  {
   "cell_type": "markdown",
   "metadata": {},
   "source": [
    "### Questions:\n",
    "\n",
    "1) Which of the following is false? Hint: Try calculating these with real numbers, by plugging in some number of your choice for $n$.  \n",
    "&#9745; There are $n-1$ ways of getting $n-1$ successes in $n$ trials, $\\binom{n}{n-1} = n - 1$"
   ]
  },
  {
   "cell_type": "code",
   "execution_count": 7,
   "metadata": {},
   "outputs": [
    {
     "data": {
      "text/html": [
       "10"
      ],
      "text/latex": [
       "10"
      ],
      "text/markdown": [
       "10"
      ],
      "text/plain": [
       "[1] 10"
      ]
     },
     "metadata": {},
     "output_type": "display_data"
    }
   ],
   "source": [
    "choose(10,9)"
   ]
  },
  {
   "cell_type": "markdown",
   "metadata": {},
   "source": [
    "&#9744; There is only 1 way of getting $n$ successes in $n$ trials, $\\binom{n}{n} = 1$"
   ]
  },
  {
   "cell_type": "code",
   "execution_count": 8,
   "metadata": {},
   "outputs": [
    {
     "data": {
      "text/html": [
       "1"
      ],
      "text/latex": [
       "1"
      ],
      "text/markdown": [
       "1"
      ],
      "text/plain": [
       "[1] 1"
      ]
     },
     "metadata": {},
     "output_type": "display_data"
    }
   ],
   "source": [
    "choose(10,10)"
   ]
  },
  {
   "cell_type": "markdown",
   "metadata": {},
   "source": [
    "&#9744; There is only 1 way of getting 0 successes in $n$ trials, $\\binom{n}{0} = 1$"
   ]
  },
  {
   "cell_type": "code",
   "execution_count": 9,
   "metadata": {},
   "outputs": [
    {
     "data": {
      "text/html": [
       "1"
      ],
      "text/latex": [
       "1"
      ],
      "text/markdown": [
       "1"
      ],
      "text/plain": [
       "[1] 1"
      ]
     },
     "metadata": {},
     "output_type": "display_data"
    }
   ],
   "source": [
    "choose(10,0)"
   ]
  },
  {
   "cell_type": "markdown",
   "metadata": {},
   "source": [
    "&#9744; There are $n$ ways of getting 1 success in $n$ trials, $\\binom{n}{1} = n$"
   ]
  },
  {
   "cell_type": "code",
   "execution_count": 10,
   "metadata": {},
   "outputs": [
    {
     "data": {
      "text/html": [
       "10"
      ],
      "text/latex": [
       "10"
      ],
      "text/markdown": [
       "10"
      ],
      "text/plain": [
       "[1] 10"
      ]
     },
     "metadata": {},
     "output_type": "display_data"
    }
   ],
   "source": [
    "choose(10,1)"
   ]
  },
  {
   "cell_type": "markdown",
   "metadata": {},
   "source": [
    "2) According to a 2013 Gallup poll, worldwide only 13% of employees are engaged at work (psychologically committed to their jobs and likely to be making positive contributions to their organizations). We are interested in finding the probability that among a random sample of 10 employees, what is the probability that 8 of them are engaged at work.\n",
    "\n",
    "Without doing any calculations, would you expect this probability to be pretty low or pretty high?  \n",
    "&#9745; pretty low  \n",
    "&#9744; pretty high  \n",
    "\n",
    "3) A 2012 Gallup survey suggests that 26.2% of Americans are obese. Among a random sample of 20 Americans, which of the following is the correct approach for calculating the probability that exactly 5 are obese?  \n",
    "&#9744; $0.262^5 \\times 0.738^{15}$<br> \n",
    "&#9744; $\\binom{5}{20} 0.262^5 \\times 0.738^{15}$<br> \n",
    "&#9745; $\\binom{20}{5} 0.262^5 \\times 0.738^{15}$<br>\n",
    "&#9744; $\\binom{20}{5} 0.262^{15} \\times 0.738^5$<br>\n",
    "\n",
    "4) A 2012 Gallup survey suggests that 26.2% of Americans are obese. Which of the following is false?  \n",
    "&#9744; Among a random sample of 1,000 Americans, we would expect 262 to be obese.  \n",
    "&#9744; Random samples of 1,000 Americans where there are at most 230 are obese people would be considered unusual.  \n",
    "&#9744; The standard deviation of number of obese Americans in random samples of 1,000 is roughly 14.  \n",
    "&#9745; Random samples of 1,000 Americans where at least 300 are obese would not be considered unusual. \n",
    "\n",
    "*Solving*:  \n",
    "$\\mu = n \\times p$<br>\n",
    "$\\mu = 1000 \\times 0.262$<br>\n",
    "$\\mu = 262$<br>\n",
    "\n",
    "$\\sigma = \\sqrt{1000\\times0.266\\times(1-0.266)}$<br>\n",
    "$\\sigma = \\sqrt{1000\\times0.266\\times0.734}$<br>\n",
    "$\\sigma = 13.9729$<br>\n",
    "\n",
    "Range of \"usual\" observations: from 234 to 290, anything beyond these would be considered unusual."
   ]
  },
  {
   "cell_type": "markdown",
   "metadata": {},
   "source": [
    "---\n",
    "## Normal Approximation to Binomial\n",
    "\n",
    "Say we have a binomial random variable with probability of success 0.25. This is what the distribution looks like when n is equal to 10.\n",
    "\n",
    "<img src=\"images/binomial_distribution.png\" width=\"700\" align=\"center\"/>\n",
    "\n",
    "In this image, each bar represents a potential outcome. With ten trials, the number of successes could range anywhere from 0 to 10 and therefore we have 11 bars here. Heights of the bars represent the likelihood of these outcomes. For example, the probability of zero successes can be calculated as 0.75. The probability of failure raised to the 10th power, since zero successes basically means ten failures.\n",
    "\n",
    "$P(k=0) = 0.75^{10} = 0.0563$<br>\n",
    "\n",
    "This value comes out to be approximately 0.056, which is the height of this bar. With $n = 10$ and $p = 0.25$, the expected number of successes is 2.5. Hence, the distribution is centered around this value, being right skewed.\n",
    "\n",
    "<img src=\"https://cdn.jsdelivr.net/gh/rogergranada/MOOCs@39b0433f/Coursera/Duke%20University/Probability-intro/Week%204/images/binomial_max.svg\" width=\"700\" align=\"center\"/>\n",
    "\n",
    "Let's increase the sample size a bit keeping $p$ constant at 0.25. With $n$ equals 20 we see a change in the center of the distribution, which is expected since $n\\times p$ is now different. We also see a change in the shape. The distribution, while still right-skewed, is looking much less skewed. Increasing the sample size further to 50, the distribution looks even more symmetric, and much smoother, and increasing the sample size even further to 100, the distribution looks no different than the normal distribution. \n",
    "\n",
    "<img src=\"https://cdn.jsdelivr.net/gh/rogergranada/MOOCs@39b0433f/Coursera/Duke%20University/Probability-intro/Week%204/images/binomial_varying.svg\" width=\"700\" align=\"center\"/>\n",
    "\n",
    "A recent study found that Facebook users get more than they give. For example, 40% of Facebook users in our sample made a friend request, but 63% received at least one request. Users in the sample pressed the like button next to friends' content an average of 14 times, but had their content liked an average of 20 times. Users sent 9 personal message on average but received 12. 12% of users tagged their friend in a photo, but 35% were themselves tagged in a photo. Some of the other findings from the study are that 25% of Facebook users are considered power users. So these are the ones that give more than they get. And that the average Facebook user has 245 friends. \n",
    "\n",
    "We're looking for the probability that an average Facebook user with 245 friends have 70 or more friends who are power users `P(70 or more power friends)`. Using the given data, we have:\n",
    "\n",
    "$p = 0.25$<br>\n",
    "$n = 245$<br>\n",
    "$P(k\\ge70)=?$<br>\n",
    "\n",
    "Checking conditions:  \n",
    "1) The trials must be independent: **(yes!)**  \n",
    "2) The number of trials ($n$) must be fixed: **n=245 (fixed!)**  \n",
    "3) Each trial outcome must be classified as either a success or a failure: **power user/not (ok!)**  \n",
    "4) The probability of success ($p$) must be same for each trial: **p=0.25 (ok!)**  \n",
    "\n",
    "This is what the binomial distribution with $n=245$, and $p=0.25$ looks like. We're interested in the probability of 70 or more successes, meaning that 70 or more power-user friends among 245. What does mean? That's 70, or 71, or 72 all the way up to 245.\n",
    "\n",
    "$P(k\\ge70) = P(k=70) + P(k=71) + ... + P(k=245)$\n",
    "\n",
    "<img src=\"images/binomial_facebook.png\" width=\"700\" align=\"center\"/>\n",
    "\n",
    "So what we're interested in is the sum of probabilities of each one of these outcomes 70 through 245. We can calculate each one of these probabilities using the binomial formula and add them up, but that really does not sound like fun. This is where the resemblance between the binomial distribution and the normal distribution comes in very handy. The blue-shaded area of interest can just as well be calculated as the area under the smooth normal curve that closely resembles the more jagged binomial distribution. Because calculating a shaded area under the normal curve is a much simpler task than calculating individual binomial probabilities for all of these outcomes and adding them up, we might want to use that method.\n",
    "\n",
    "<img src=\"https://cdn.jsdelivr.net/gh/rogergranada/MOOCs@39b0433f/Coursera/Duke%20University/Probability-intro/Week%204/images/binomial_facebook_red.svg\" width=\"700\" align=\"center\"/>\n",
    "\n",
    "To calculate a normal probability, we need a little more information on the parameters of the normal distribution. These can be estimated by the mean and the standard deviation of the original binomial distribution. The mean is:\n",
    "\n",
    "$\\mu = n\\times p$<br>\n",
    "$\\mu = 245\\times 0.25$<br>\n",
    "$\\mu = 61.25$\n",
    "\n",
    "The standard deviation is:\n",
    "\n",
    "$\\sigma = \\sqrt{n\\times p\\times (1-p)}$<br>\n",
    "$\\sigma = \\sqrt{245\\times0.25\\times0.75}$<br>\n",
    "$\\sigma = 6.78$<br>\n",
    "\n",
    "So among 245 friends, we expect 61.25 power users, give or take 6.78. Given an observation, the mean, and the standard deviation, we can calculate the area under the curve via a z-score. So the z-score is going to be:\n",
    "\n",
    "$\\text{z-score} = \\frac{\\text{observation} - \\mu}{\\sigma}$<br>\n",
    "$\\text{z-score} = \\frac{70 - 61.25}{6.78}$<br>\n",
    "$\\text{z-score} = 1.29$<br>\n",
    "\n",
    "We can then find the probability of a z-score being greater than 1.29 `P(z > 1.29)`, since we shaded the area underneath the curve beyond the observation of interest. So we want to take a look on our table to 1.29 as a z-score, and in the intersection of the row and the column of interest, we can see 0.9015.  \n",
    "\n",
    "<img src=\"https://cdn.jsdelivr.net/gh/rogergranada/MOOCs@99fb23e0/Coursera/Duke%20University/Probability-intro/Week%204/images/zscore_table_gt1.svg\" width=\"700\" align=\"center\"/>\n",
    "\n",
    "The probability of obtaining a z-score greater than 1.29 is going to be one minus that probability from the table, since the table always gives us the percentile or the area under the curve below the observed value and we want to find the complement of that.\n",
    "\n",
    "$P(z > 1.29) = 1 - P(\\text{z-score from table})$<br>\n",
    "$P(z > 1.29) = 1 - 0.9015$<br>\n",
    "$P(z > 1.29) = 0.0985$<br>\n",
    "\n",
    "So there is a 9.85% chance that an average Facebook user, with 245 friends, has at least 70 friends who are considered power users. \n",
    "\n",
    "We can also directly calculate this probability using R and the `dbinom` function. The first argument in the function is the number of successes, and we're interested in everything between 70 and 245. The second argument is the total sample size, 245, and the third is a probability of success for each trial. "
   ]
  },
  {
   "cell_type": "code",
   "execution_count": 3,
   "metadata": {},
   "outputs": [
    {
     "data": {
      "text/html": [
       "0.11276297589148"
      ],
      "text/latex": [
       "0.11276297589148"
      ],
      "text/markdown": [
       "0.11276297589148"
      ],
      "text/plain": [
       "[1] 0.112763"
      ]
     },
     "metadata": {},
     "output_type": "display_data"
    }
   ],
   "source": [
    "sum(dbinom(70:245, size=245, p=0.25))"
   ]
  },
  {
   "cell_type": "markdown",
   "metadata": {},
   "source": [
    "The probability comes out to be 0.113, or 11.3%. Versus the 0.0985 we found before. The results are different since we called the approach the normal approximation to the binomial, so it's just an approximation and not an exact result. On the other hand, if we need the exact probability, the difference may be frustrating. \n",
    "\n",
    "The curve of the normal distribution is slightly different than the bars representing the exact binomial probabilities. In fact, it falls a little bit short. Also, under the continuous normal distribution, the probability of exactly 70 successes is undefined. So the shaded area above 70 doesn't exactly include the probability of 70 successes. A common fix to this problem is a 0.5 adjustment to the observation of interest. So we calculate the z-score using 69.5 as opposed to 70, which yields an adjusted z-score of 1.22.\n",
    "\n",
    "$\\text{z-score} = \\frac{69.5-61.25}{6.78}$<br>\n",
    "$\\text{z-score} = 1.22$<br>\n",
    "\n",
    "Looking at the table above, we see that the probability for z-score equals to 1.22 is 0.8888, thus:\n",
    "\n",
    "$P(z > 1.29) = 1 - 0.8888$<br>\n",
    "$P(z > 1.29) = 0.1112$<br>\n",
    "\n",
    "The result we get is now much closer to the exact result from the binomial distribution, 0.1112 versus 0.113. \n",
    "\n",
    "\n",
    "### Shape of the binomial distribution\n",
    "\n",
    "In the example we just presented, we plotted the binomial distribution using computation, and visually confirmed that it looked unimodal and symmetric, roughly similar to a normal distribution. But what if we couldn't plot the binomial distribution? What are some guidelines that we can use to determine whether the sample size or the number of trials is large enough, such that we can be confident in estimating the binomial distribution using the normal? In other words, how can we tell if the shape of the binomial distribution is going to be unimodal and symmetric, and closely follow the normal distribution? \n",
    "\n",
    "The rule of thumb is the **success-failure condition**, which says that a binomial distribution with at least 10 expected successes and 10 expected failures closely follows a normal distribution. \n",
    "\n",
    "$$n\\times p > 10$$\n",
    "$$n(1-p) \\ge 10$$\n",
    "\n",
    "And in cases where it does we can approximate the binomial distribution with the normal, where the parameters of the normal distribution are calculated as the mean and standard deviation of the binomial. Normal approximation to the binomial: If the success-failure condition holds,\n",
    "\n",
    "$$\\text{Binomial}(n,p) ~ \\text{Normal}(\\mu,\\sigma)$$\n",
    "\n",
    "where $\\mu = n\\times p$ and $\\sigma=\\sqrt{n\\times p(1 - p)}$.\n",
    "\n",
    "**Practice**:\n",
    "\n",
    "What is the minimum $n$, or the sample size, required for a binomial distribution with probability of success equaling 0.25, to closely follow a normal distribution?\n",
    "\n",
    "We know that\n",
    "\n",
    "$n\\times p > 10$<br>\n",
    "$n\\times 0.25 > 10$<br>\n",
    "$n > \\frac{10}{0.25}$<br>\n",
    "$n > 40$<br>\n",
    "\n",
    "$n\\times (1 - p) \\ge 10$<br>\n",
    "$n\\times 0.75 \\ge 10$<br>\n",
    "$n \\ge \\frac{10}{0.75}$<br>\n",
    "$n \\ge 13.33$<br>\n",
    "\n",
    "So the answer is that we need at least 40 observations for a binomial distribution with $p=0.25$, to closely follow a normal distribution. \n"
   ]
  },
  {
   "cell_type": "markdown",
   "metadata": {},
   "source": [
    "### Questions\n",
    "\n",
    "1) Below are four pairs of Binomial distribution parameters. Which distribution can be approximated by the normal distribution?  \n",
    "&#9744; $n=100$, $p=0.95$<br>\n",
    "&#9745; $n=25$, $p=0.45$<br>\n",
    "&#9744; $n=150$, $p=0.05$<br>\n",
    "&#9744; $n=500$, $p=0.015$<br>\n",
    "\n",
    "*Solving*:  \n",
    "(a) NOT  \n",
    "$n\\times p > 10$<br>\n",
    "$100\\times0.95 > 10$<br>\n",
    "$95 > 10$<br>\n",
    "\n",
    "$n\\times(1 - p) \\ge 10$<br>\n",
    "$100\\times0.05 \\ge 10$<br>\n",
    "$5 \\ge 10$<br>\n",
    "\n",
    "(b) NOT  \n",
    "$n\\times p > 10$<br>\n",
    "$25\\times0.45 > 10$<br>\n",
    "$11.25 > 10$<br>\n",
    "\n",
    "$n\\times(1 - p) \\ge 10$<br>\n",
    "$25\\times0.55 \\ge 10$<br>\n",
    "$13.75 \\ge 10$<br>\n",
    "\n",
    "(c) NOT  \n",
    "$n\\times p > 10$<br>\n",
    "$150\\times0.05 > 10$<br>\n",
    "$7.5 > 10$<br>\n",
    "\n",
    "(d) NOT  \n",
    "$n\\times p > 10$<br>\n",
    "$500\\times0.015 > 10$<br>\n",
    "$7.5 > 10$<br>"
   ]
  },
  {
   "cell_type": "code",
   "execution_count": null,
   "metadata": {
    "collapsed": true
   },
   "outputs": [],
   "source": []
  }
 ],
 "metadata": {
  "kernelspec": {
   "display_name": "R",
   "language": "R",
   "name": "ir"
  },
  "language_info": {
   "codemirror_mode": "r",
   "file_extension": ".r",
   "mimetype": "text/x-r-source",
   "name": "R",
   "pygments_lexer": "r",
   "version": "3.2.3"
  }
 },
 "nbformat": 4,
 "nbformat_minor": 2
}
